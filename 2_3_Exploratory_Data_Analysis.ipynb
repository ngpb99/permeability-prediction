{
 "cells": [
  {
   "cell_type": "code",
   "execution_count": 1,
   "id": "58f69c73-6e36-4fba-aa58-14b89c379025",
   "metadata": {},
   "outputs": [],
   "source": [
    "import matplotlib.pyplot as plt\n",
    "import pandas as pd\n",
    "import numpy as np\n",
    "from rdkit import Chem\n",
    "from rdkit.Chem import Descriptors\n",
    "from rdkit.Chem import rdMolDescriptors\n",
    "%matplotlib inline"
   ]
  },
  {
   "cell_type": "code",
   "execution_count": 2,
   "id": "b594ce73-89cc-4f6d-97bf-b06803f27b73",
   "metadata": {},
   "outputs": [],
   "source": [
    "df_full = pd.read_csv('./Fingerprints and Dim Reduction Dataset/dim_red_full_dataset.csv')"
   ]
  },
  {
   "cell_type": "code",
   "execution_count": 3,
   "id": "d581f965-0f92-4dfc-86d4-3ee5f6aec354",
   "metadata": {},
   "outputs": [
    {
     "data": {
      "text/html": [
       "<div>\n",
       "<style scoped>\n",
       "    .dataframe tbody tr th:only-of-type {\n",
       "        vertical-align: middle;\n",
       "    }\n",
       "\n",
       "    .dataframe tbody tr th {\n",
       "        vertical-align: top;\n",
       "    }\n",
       "\n",
       "    .dataframe thead th {\n",
       "        text-align: right;\n",
       "    }\n",
       "</style>\n",
       "<table border=\"1\" class=\"dataframe\">\n",
       "  <thead>\n",
       "    <tr style=\"text-align: right;\">\n",
       "      <th></th>\n",
       "      <th>Unnamed: 0</th>\n",
       "      <th>0</th>\n",
       "      <th>1</th>\n",
       "    </tr>\n",
       "  </thead>\n",
       "  <tbody>\n",
       "    <tr>\n",
       "      <th>0</th>\n",
       "      <td>C=CCn1c(=O)c2cccnc2n(CC=C)c1=O</td>\n",
       "      <td>4.414679</td>\n",
       "      <td>2.039743</td>\n",
       "    </tr>\n",
       "    <tr>\n",
       "      <th>1</th>\n",
       "      <td>N#CCc1ccccc1C#Cc1ccc(CCC(=O)O)cc1</td>\n",
       "      <td>2.612328</td>\n",
       "      <td>0.927773</td>\n",
       "    </tr>\n",
       "    <tr>\n",
       "      <th>2</th>\n",
       "      <td>CCC(=O)N[C@H]1CC[C@@H](C(=O)N(C)c2ccc(-c3nc4cc...</td>\n",
       "      <td>8.966173</td>\n",
       "      <td>1.862176</td>\n",
       "    </tr>\n",
       "    <tr>\n",
       "      <th>3</th>\n",
       "      <td>c1csc([C@]23CNC[C@H]2C3)c1</td>\n",
       "      <td>4.595595</td>\n",
       "      <td>1.719349</td>\n",
       "    </tr>\n",
       "    <tr>\n",
       "      <th>4</th>\n",
       "      <td>c1cnc2ccc(Cn3nnc4nccnc43)cc2c1</td>\n",
       "      <td>3.775784</td>\n",
       "      <td>-2.703937</td>\n",
       "    </tr>\n",
       "  </tbody>\n",
       "</table>\n",
       "</div>"
      ],
      "text/plain": [
       "                                          Unnamed: 0         0         1\n",
       "0                     C=CCn1c(=O)c2cccnc2n(CC=C)c1=O  4.414679  2.039743\n",
       "1                  N#CCc1ccccc1C#Cc1ccc(CCC(=O)O)cc1  2.612328  0.927773\n",
       "2  CCC(=O)N[C@H]1CC[C@@H](C(=O)N(C)c2ccc(-c3nc4cc...  8.966173  1.862176\n",
       "3                         c1csc([C@]23CNC[C@H]2C3)c1  4.595595  1.719349\n",
       "4                     c1cnc2ccc(Cn3nnc4nccnc43)cc2c1  3.775784 -2.703937"
      ]
     },
     "execution_count": 3,
     "metadata": {},
     "output_type": "execute_result"
    }
   ],
   "source": [
    "df_full.head(5)"
   ]
  },
  {
   "cell_type": "code",
   "execution_count": 24,
   "id": "092994b4-3333-413a-ad6a-996c18393a09",
   "metadata": {},
   "outputs": [
    {
     "data": {
      "text/html": [
       "<div>\n",
       "<style scoped>\n",
       "    .dataframe tbody tr th:only-of-type {\n",
       "        vertical-align: middle;\n",
       "    }\n",
       "\n",
       "    .dataframe tbody tr th {\n",
       "        vertical-align: top;\n",
       "    }\n",
       "\n",
       "    .dataframe thead th {\n",
       "        text-align: right;\n",
       "    }\n",
       "</style>\n",
       "<table border=\"1\" class=\"dataframe\">\n",
       "  <thead>\n",
       "    <tr style=\"text-align: right;\">\n",
       "      <th></th>\n",
       "      <th>0</th>\n",
       "      <th>1</th>\n",
       "    </tr>\n",
       "  </thead>\n",
       "  <tbody>\n",
       "    <tr>\n",
       "      <th>count</th>\n",
       "      <td>5940.000000</td>\n",
       "      <td>5940.000000</td>\n",
       "    </tr>\n",
       "    <tr>\n",
       "      <th>mean</th>\n",
       "      <td>4.562178</td>\n",
       "      <td>0.406165</td>\n",
       "    </tr>\n",
       "    <tr>\n",
       "      <th>std</th>\n",
       "      <td>5.615780</td>\n",
       "      <td>5.772143</td>\n",
       "    </tr>\n",
       "    <tr>\n",
       "      <th>min</th>\n",
       "      <td>-13.897752</td>\n",
       "      <td>-13.721657</td>\n",
       "    </tr>\n",
       "    <tr>\n",
       "      <th>25%</th>\n",
       "      <td>1.433141</td>\n",
       "      <td>-2.231566</td>\n",
       "    </tr>\n",
       "    <tr>\n",
       "      <th>50%</th>\n",
       "      <td>4.132207</td>\n",
       "      <td>0.229828</td>\n",
       "    </tr>\n",
       "    <tr>\n",
       "      <th>75%</th>\n",
       "      <td>6.888546</td>\n",
       "      <td>2.436645</td>\n",
       "    </tr>\n",
       "    <tr>\n",
       "      <th>max</th>\n",
       "      <td>30.520319</td>\n",
       "      <td>19.739994</td>\n",
       "    </tr>\n",
       "  </tbody>\n",
       "</table>\n",
       "</div>"
      ],
      "text/plain": [
       "                 0            1\n",
       "count  5940.000000  5940.000000\n",
       "mean      4.562178     0.406165\n",
       "std       5.615780     5.772143\n",
       "min     -13.897752   -13.721657\n",
       "25%       1.433141    -2.231566\n",
       "50%       4.132207     0.229828\n",
       "75%       6.888546     2.436645\n",
       "max      30.520319    19.739994"
      ]
     },
     "execution_count": 24,
     "metadata": {},
     "output_type": "execute_result"
    }
   ],
   "source": [
    "df_full.describe()"
   ]
  },
  {
   "cell_type": "code",
   "execution_count": 26,
   "id": "ba4ec477-c51b-4469-a1bd-0ae45278714a",
   "metadata": {},
   "outputs": [
    {
     "data": {
      "image/png": "[encoded data removed]",
      "text/plain": [
       "<Figure size 640x480 with 1 Axes>"
      ]
     },
     "metadata": {},
     "output_type": "display_data"
    }
   ],
   "source": [
    "x = df_full['0']\n",
    "y = df_full['1']\n",
    "\n",
    "plt.scatter(x, y)\n",
    "plt.xlabel('UMAP_1')\n",
    "plt.ylabel('UMAP_2')\n",
    "plt.xlim(-20, 35)\n",
    "plt.ylim(-20, 25)\n",
    "plt.title('Chemical Space Occupied by Combined Dataset')\n",
    "plt.show()"
   ]
  },
  {
   "cell_type": "code",
   "execution_count": 5,
   "id": "55f2a94b-47ad-4b91-9156-fb8b8e4480da",
   "metadata": {},
   "outputs": [],
   "source": [
    "df_1 = pd.read_csv('./Fingerprints and Dim Reduction Dataset/wang_2016_dim_red.csv')"
   ]
  },
  {
   "cell_type": "code",
   "execution_count": 6,
   "id": "f24e321d-2120-403e-91dc-aad7a26bbe90",
   "metadata": {},
   "outputs": [
    {
     "data": {
      "text/html": [
       "<div>\n",
       "<style scoped>\n",
       "    .dataframe tbody tr th:only-of-type {\n",
       "        vertical-align: middle;\n",
       "    }\n",
       "\n",
       "    .dataframe tbody tr th {\n",
       "        vertical-align: top;\n",
       "    }\n",
       "\n",
       "    .dataframe thead th {\n",
       "        text-align: right;\n",
       "    }\n",
       "</style>\n",
       "<table border=\"1\" class=\"dataframe\">\n",
       "  <thead>\n",
       "    <tr style=\"text-align: right;\">\n",
       "      <th></th>\n",
       "      <th>SMILES</th>\n",
       "      <th>logPapp</th>\n",
       "      <th>0</th>\n",
       "      <th>1</th>\n",
       "    </tr>\n",
       "  </thead>\n",
       "  <tbody>\n",
       "    <tr>\n",
       "      <th>0</th>\n",
       "      <td>Oc1cc(O)c2c(c1)OC(c1ccc(O)c(O)c1)C(O)C2</td>\n",
       "      <td>-0.220000</td>\n",
       "      <td>0.830515</td>\n",
       "      <td>1.484946</td>\n",
       "    </tr>\n",
       "    <tr>\n",
       "      <th>1</th>\n",
       "      <td>C/C=C\\C#CCC/C=C\\C=C\\C(=O)NCC(C)C</td>\n",
       "      <td>2.140000</td>\n",
       "      <td>4.149382</td>\n",
       "      <td>3.891482</td>\n",
       "    </tr>\n",
       "    <tr>\n",
       "      <th>2</th>\n",
       "      <td>COc1ccc2c3c1O[C@H]1[C@@H](O)C=C[C@H]4[C@@H](C2...</td>\n",
       "      <td>1.910000</td>\n",
       "      <td>4.949465</td>\n",
       "      <td>1.701033</td>\n",
       "    </tr>\n",
       "    <tr>\n",
       "      <th>3</th>\n",
       "      <td>CN1CC(=O)NC1=N</td>\n",
       "      <td>0.064591</td>\n",
       "      <td>4.875929</td>\n",
       "      <td>2.780765</td>\n",
       "    </tr>\n",
       "    <tr>\n",
       "      <th>4</th>\n",
       "      <td>C#C[C@]1(O)CC[C@H]2[C@@H]3CCC4=Cc5oncc5C[C@]4(...</td>\n",
       "      <td>1.160000</td>\n",
       "      <td>4.318499</td>\n",
       "      <td>7.143800</td>\n",
       "    </tr>\n",
       "  </tbody>\n",
       "</table>\n",
       "</div>"
      ],
      "text/plain": [
       "                                              SMILES   logPapp         0  \\\n",
       "0            Oc1cc(O)c2c(c1)OC(c1ccc(O)c(O)c1)C(O)C2 -0.220000  0.830515   \n",
       "1                   C/C=C\\C#CCC/C=C\\C=C\\C(=O)NCC(C)C  2.140000  4.149382   \n",
       "2  COc1ccc2c3c1O[C@H]1[C@@H](O)C=C[C@H]4[C@@H](C2...  1.910000  4.949465   \n",
       "3                                     CN1CC(=O)NC1=N  0.064591  4.875929   \n",
       "4  C#C[C@]1(O)CC[C@H]2[C@@H]3CCC4=Cc5oncc5C[C@]4(...  1.160000  4.318499   \n",
       "\n",
       "          1  \n",
       "0  1.484946  \n",
       "1  3.891482  \n",
       "2  1.701033  \n",
       "3  2.780765  \n",
       "4  7.143800  "
      ]
     },
     "execution_count": 6,
     "metadata": {},
     "output_type": "execute_result"
    }
   ],
   "source": [
    "df_1.head(5)"
   ]
  },
  {
   "cell_type": "code",
   "execution_count": 22,
   "id": "dd2f9cbc-e42f-40d3-a987-0be48632ab71",
   "metadata": {},
   "outputs": [
    {
     "data": {
      "text/html": [
       "<div>\n",
       "<style scoped>\n",
       "    .dataframe tbody tr th:only-of-type {\n",
       "        vertical-align: middle;\n",
       "    }\n",
       "\n",
       "    .dataframe tbody tr th {\n",
       "        vertical-align: top;\n",
       "    }\n",
       "\n",
       "    .dataframe thead th {\n",
       "        text-align: right;\n",
       "    }\n",
       "</style>\n",
       "<table border=\"1\" class=\"dataframe\">\n",
       "  <thead>\n",
       "    <tr style=\"text-align: right;\">\n",
       "      <th></th>\n",
       "      <th>logPapp</th>\n",
       "      <th>0</th>\n",
       "      <th>1</th>\n",
       "    </tr>\n",
       "  </thead>\n",
       "  <tbody>\n",
       "    <tr>\n",
       "      <th>count</th>\n",
       "      <td>933.000000</td>\n",
       "      <td>933.000000</td>\n",
       "      <td>933.000000</td>\n",
       "    </tr>\n",
       "    <tr>\n",
       "      <th>mean</th>\n",
       "      <td>0.814551</td>\n",
       "      <td>4.487788</td>\n",
       "      <td>0.987679</td>\n",
       "    </tr>\n",
       "    <tr>\n",
       "      <th>std</th>\n",
       "      <td>0.776097</td>\n",
       "      <td>6.591426</td>\n",
       "      <td>4.837968</td>\n",
       "    </tr>\n",
       "    <tr>\n",
       "      <th>min</th>\n",
       "      <td>-1.760000</td>\n",
       "      <td>-13.868582</td>\n",
       "      <td>-13.412864</td>\n",
       "    </tr>\n",
       "    <tr>\n",
       "      <th>25%</th>\n",
       "      <td>0.300515</td>\n",
       "      <td>1.283319</td>\n",
       "      <td>-0.720766</td>\n",
       "    </tr>\n",
       "    <tr>\n",
       "      <th>50%</th>\n",
       "      <td>0.950000</td>\n",
       "      <td>3.861883</td>\n",
       "      <td>1.372936</td>\n",
       "    </tr>\n",
       "    <tr>\n",
       "      <th>75%</th>\n",
       "      <td>1.400000</td>\n",
       "      <td>6.210107</td>\n",
       "      <td>3.003262</td>\n",
       "    </tr>\n",
       "    <tr>\n",
       "      <th>max</th>\n",
       "      <td>2.490000</td>\n",
       "      <td>30.513535</td>\n",
       "      <td>14.680285</td>\n",
       "    </tr>\n",
       "  </tbody>\n",
       "</table>\n",
       "</div>"
      ],
      "text/plain": [
       "          logPapp           0           1\n",
       "count  933.000000  933.000000  933.000000\n",
       "mean     0.814551    4.487788    0.987679\n",
       "std      0.776097    6.591426    4.837968\n",
       "min     -1.760000  -13.868582  -13.412864\n",
       "25%      0.300515    1.283319   -0.720766\n",
       "50%      0.950000    3.861883    1.372936\n",
       "75%      1.400000    6.210107    3.003262\n",
       "max      2.490000   30.513535   14.680285"
      ]
     },
     "execution_count": 22,
     "metadata": {},
     "output_type": "execute_result"
    }
   ],
   "source": [
    "df_1.describe()"
   ]
  },
  {
   "cell_type": "code",
   "execution_count": 27,
   "id": "01c5d12f-7536-4162-9bd2-9f1fe10a87ea",
   "metadata": {},
   "outputs": [
    {
     "data": {
      "image/png": "[encoded data removed]",
      "text/plain": [
       "<Figure size 640x480 with 1 Axes>"
      ]
     },
     "metadata": {},
     "output_type": "display_data"
    }
   ],
   "source": [
    "x = df_1['0']\n",
    "y = df_1['1']\n",
    "\n",
    "plt.scatter(x, y, color='red')\n",
    "plt.xlabel('UMAP_1')\n",
    "plt.ylabel('UMAP_2')\n",
    "plt.xlim(-20, 35)\n",
    "plt.ylim(-20, 25)\n",
    "plt.title('Chemical Space Occupied by Wang et al. 2016')\n",
    "plt.show()"
   ]
  },
  {
   "cell_type": "code",
   "execution_count": 8,
   "id": "d3ce0872-fa42-41dd-afab-bcc985e4e943",
   "metadata": {},
   "outputs": [],
   "source": [
    "df_2 = pd.read_csv('./Fingerprints and Dim Reduction Dataset/wang_2020_dim_red.csv')"
   ]
  },
  {
   "cell_type": "code",
   "execution_count": 9,
   "id": "9a11035e-5829-4b8d-bc7d-80ddfe79a5b2",
   "metadata": {},
   "outputs": [
    {
     "data": {
      "text/html": [
       "<div>\n",
       "<style scoped>\n",
       "    .dataframe tbody tr th:only-of-type {\n",
       "        vertical-align: middle;\n",
       "    }\n",
       "\n",
       "    .dataframe tbody tr th {\n",
       "        vertical-align: top;\n",
       "    }\n",
       "\n",
       "    .dataframe thead th {\n",
       "        text-align: right;\n",
       "    }\n",
       "</style>\n",
       "<table border=\"1\" class=\"dataframe\">\n",
       "  <thead>\n",
       "    <tr style=\"text-align: right;\">\n",
       "      <th></th>\n",
       "      <th>SMILES</th>\n",
       "      <th>logPapp</th>\n",
       "      <th>0</th>\n",
       "      <th>1</th>\n",
       "    </tr>\n",
       "  </thead>\n",
       "  <tbody>\n",
       "    <tr>\n",
       "      <th>0</th>\n",
       "      <td>Cc1cccc(C)c1OCC(C)N</td>\n",
       "      <td>2.449941</td>\n",
       "      <td>4.281583</td>\n",
       "      <td>1.456352</td>\n",
       "    </tr>\n",
       "    <tr>\n",
       "      <th>1</th>\n",
       "      <td>CCC(=O)N(c1ccccc1)C1(COC)CCN(CCn2nnn(CC)c2=O)CC1</td>\n",
       "      <td>2.431364</td>\n",
       "      <td>5.145594</td>\n",
       "      <td>1.753814</td>\n",
       "    </tr>\n",
       "    <tr>\n",
       "      <th>2</th>\n",
       "      <td>COc1cccc2c1CCCC2CCCN1CCN(C2CCCCC2)CC1</td>\n",
       "      <td>2.397245</td>\n",
       "      <td>6.620259</td>\n",
       "      <td>0.956357</td>\n",
       "    </tr>\n",
       "    <tr>\n",
       "      <th>3</th>\n",
       "      <td>CC(C)OC(=O)C(C)(C)Oc1ccc(C(=O)c2ccc(Cl)cc2)cc1</td>\n",
       "      <td>2.342423</td>\n",
       "      <td>3.258436</td>\n",
       "      <td>0.718581</td>\n",
       "    </tr>\n",
       "    <tr>\n",
       "      <th>4</th>\n",
       "      <td>C[C@@H](O[C@H]1OCCN(Cc2nc(=O)[nH][nH]2)[C@H]1c...</td>\n",
       "      <td>2.230449</td>\n",
       "      <td>-0.219996</td>\n",
       "      <td>3.254704</td>\n",
       "    </tr>\n",
       "  </tbody>\n",
       "</table>\n",
       "</div>"
      ],
      "text/plain": [
       "                                              SMILES   logPapp         0  \\\n",
       "0                                Cc1cccc(C)c1OCC(C)N  2.449941  4.281583   \n",
       "1   CCC(=O)N(c1ccccc1)C1(COC)CCN(CCn2nnn(CC)c2=O)CC1  2.431364  5.145594   \n",
       "2              COc1cccc2c1CCCC2CCCN1CCN(C2CCCCC2)CC1  2.397245  6.620259   \n",
       "3     CC(C)OC(=O)C(C)(C)Oc1ccc(C(=O)c2ccc(Cl)cc2)cc1  2.342423  3.258436   \n",
       "4  C[C@@H](O[C@H]1OCCN(Cc2nc(=O)[nH][nH]2)[C@H]1c...  2.230449 -0.219996   \n",
       "\n",
       "          1  \n",
       "0  1.456352  \n",
       "1  1.753814  \n",
       "2  0.956357  \n",
       "3  0.718581  \n",
       "4  3.254704  "
      ]
     },
     "execution_count": 9,
     "metadata": {},
     "output_type": "execute_result"
    }
   ],
   "source": [
    "df_2.head(5)"
   ]
  },
  {
   "cell_type": "code",
   "execution_count": 23,
   "id": "d244d56a-d52a-4af8-8772-528174f76d8c",
   "metadata": {},
   "outputs": [
    {
     "data": {
      "text/html": [
       "<div>\n",
       "<style scoped>\n",
       "    .dataframe tbody tr th:only-of-type {\n",
       "        vertical-align: middle;\n",
       "    }\n",
       "\n",
       "    .dataframe tbody tr th {\n",
       "        vertical-align: top;\n",
       "    }\n",
       "\n",
       "    .dataframe thead th {\n",
       "        text-align: right;\n",
       "    }\n",
       "</style>\n",
       "<table border=\"1\" class=\"dataframe\">\n",
       "  <thead>\n",
       "    <tr style=\"text-align: right;\">\n",
       "      <th></th>\n",
       "      <th>logPapp</th>\n",
       "      <th>0</th>\n",
       "      <th>1</th>\n",
       "    </tr>\n",
       "  </thead>\n",
       "  <tbody>\n",
       "    <tr>\n",
       "      <th>count</th>\n",
       "      <td>4105.000000</td>\n",
       "      <td>4105.000000</td>\n",
       "      <td>4105.000000</td>\n",
       "    </tr>\n",
       "    <tr>\n",
       "      <th>mean</th>\n",
       "      <td>0.651343</td>\n",
       "      <td>4.287225</td>\n",
       "      <td>0.022666</td>\n",
       "    </tr>\n",
       "    <tr>\n",
       "      <th>std</th>\n",
       "      <td>0.760912</td>\n",
       "      <td>4.787728</td>\n",
       "      <td>5.776811</td>\n",
       "    </tr>\n",
       "    <tr>\n",
       "      <th>min</th>\n",
       "      <td>-1.958607</td>\n",
       "      <td>-11.907212</td>\n",
       "      <td>-13.715731</td>\n",
       "    </tr>\n",
       "    <tr>\n",
       "      <th>25%</th>\n",
       "      <td>0.146128</td>\n",
       "      <td>1.279819</td>\n",
       "      <td>-2.458743</td>\n",
       "    </tr>\n",
       "    <tr>\n",
       "      <th>50%</th>\n",
       "      <td>0.812913</td>\n",
       "      <td>4.016186</td>\n",
       "      <td>-0.288265</td>\n",
       "    </tr>\n",
       "    <tr>\n",
       "      <th>75%</th>\n",
       "      <td>1.245513</td>\n",
       "      <td>6.996854</td>\n",
       "      <td>1.855685</td>\n",
       "    </tr>\n",
       "    <tr>\n",
       "      <th>max</th>\n",
       "      <td>2.449941</td>\n",
       "      <td>21.101330</td>\n",
       "      <td>19.739994</td>\n",
       "    </tr>\n",
       "  </tbody>\n",
       "</table>\n",
       "</div>"
      ],
      "text/plain": [
       "           logPapp            0            1\n",
       "count  4105.000000  4105.000000  4105.000000\n",
       "mean      0.651343     4.287225     0.022666\n",
       "std       0.760912     4.787728     5.776811\n",
       "min      -1.958607   -11.907212   -13.715731\n",
       "25%       0.146128     1.279819    -2.458743\n",
       "50%       0.812913     4.016186    -0.288265\n",
       "75%       1.245513     6.996854     1.855685\n",
       "max       2.449941    21.101330    19.739994"
      ]
     },
     "execution_count": 23,
     "metadata": {},
     "output_type": "execute_result"
    }
   ],
   "source": [
    "df_2.describe()"
   ]
  },
  {
   "cell_type": "code",
   "execution_count": 28,
   "id": "ac1d04a4-6588-4962-927b-7b40a855e514",
   "metadata": {},
   "outputs": [
    {
     "data": {
      "image/png": "[encoded data removed]",
      "text/plain": [
       "<Figure size 640x480 with 1 Axes>"
      ]
     },
     "metadata": {},
     "output_type": "display_data"
    }
   ],
   "source": [
    "x = df_2['0']\n",
    "y = df_2['1']\n",
    "\n",
    "plt.scatter(x, y, color='green')\n",
    "plt.xlabel('UMAP_1')\n",
    "plt.ylabel('UMAP_2')\n",
    "plt.xlim(-20, 35)\n",
    "plt.ylim(-20, 25)\n",
    "plt.title('Chemical Space Occupied by Wang et al. 2020')\n",
    "plt.show()"
   ]
  },
  {
   "cell_type": "code",
   "execution_count": 11,
   "id": "28536020-e2e4-412e-8d49-30c7a04d3481",
   "metadata": {},
   "outputs": [],
   "source": [
    "df_3 = pd.read_csv('./Fingerprints and Dim Reduction Dataset/wang_chen_2020_dim_red.csv')"
   ]
  },
  {
   "cell_type": "code",
   "execution_count": 12,
   "id": "78c604da-1e60-4669-9f95-be97ab7e6def",
   "metadata": {},
   "outputs": [
    {
     "data": {
      "text/html": [
       "<div>\n",
       "<style scoped>\n",
       "    .dataframe tbody tr th:only-of-type {\n",
       "        vertical-align: middle;\n",
       "    }\n",
       "\n",
       "    .dataframe tbody tr th {\n",
       "        vertical-align: top;\n",
       "    }\n",
       "\n",
       "    .dataframe thead th {\n",
       "        text-align: right;\n",
       "    }\n",
       "</style>\n",
       "<table border=\"1\" class=\"dataframe\">\n",
       "  <thead>\n",
       "    <tr style=\"text-align: right;\">\n",
       "      <th></th>\n",
       "      <th>SMILES</th>\n",
       "      <th>logPapp</th>\n",
       "      <th>0</th>\n",
       "      <th>1</th>\n",
       "    </tr>\n",
       "  </thead>\n",
       "  <tbody>\n",
       "    <tr>\n",
       "      <th>0</th>\n",
       "      <td>CC(C)C[C@@H]1NC(=O)CNC(=O)[C@H](Cc2ccccc2)NC(=...</td>\n",
       "      <td>-1.698970</td>\n",
       "      <td>6.030314</td>\n",
       "      <td>12.098828</td>\n",
       "    </tr>\n",
       "    <tr>\n",
       "      <th>1</th>\n",
       "      <td>O=C(N[C@@H](Cc1ccc(F)c(Br)c1)C(=O)O)c1cc(Cl)c(...</td>\n",
       "      <td>-1.698970</td>\n",
       "      <td>-0.511866</td>\n",
       "      <td>-1.797026</td>\n",
       "    </tr>\n",
       "    <tr>\n",
       "      <th>2</th>\n",
       "      <td>CC(C)CCn1nc(N2CCOCC2)c(O)c(C2=NS(=O)(=O)c3cc(N...</td>\n",
       "      <td>-1.677781</td>\n",
       "      <td>-0.750130</td>\n",
       "      <td>11.941827</td>\n",
       "    </tr>\n",
       "    <tr>\n",
       "      <th>3</th>\n",
       "      <td>CC(C)CCn1nc(-c2cccs2)c(O)c(C2=NS(=O)(=O)c3cc(N...</td>\n",
       "      <td>-1.673664</td>\n",
       "      <td>-0.601722</td>\n",
       "      <td>12.084752</td>\n",
       "    </tr>\n",
       "    <tr>\n",
       "      <th>4</th>\n",
       "      <td>CC(C)CCn1c(=O)c(C2=CS(=O)(=O)c3cc(NS(C)(=O)=O)...</td>\n",
       "      <td>-1.568636</td>\n",
       "      <td>-0.547811</td>\n",
       "      <td>12.134306</td>\n",
       "    </tr>\n",
       "  </tbody>\n",
       "</table>\n",
       "</div>"
      ],
      "text/plain": [
       "                                              SMILES   logPapp         0  \\\n",
       "0  CC(C)C[C@@H]1NC(=O)CNC(=O)[C@H](Cc2ccccc2)NC(=... -1.698970  6.030314   \n",
       "1  O=C(N[C@@H](Cc1ccc(F)c(Br)c1)C(=O)O)c1cc(Cl)c(... -1.698970 -0.511866   \n",
       "2  CC(C)CCn1nc(N2CCOCC2)c(O)c(C2=NS(=O)(=O)c3cc(N... -1.677781 -0.750130   \n",
       "3  CC(C)CCn1nc(-c2cccs2)c(O)c(C2=NS(=O)(=O)c3cc(N... -1.673664 -0.601722   \n",
       "4  CC(C)CCn1c(=O)c(C2=CS(=O)(=O)c3cc(NS(C)(=O)=O)... -1.568636 -0.547811   \n",
       "\n",
       "           1  \n",
       "0  12.098828  \n",
       "1  -1.797026  \n",
       "2  11.941827  \n",
       "3  12.084752  \n",
       "4  12.134306  "
      ]
     },
     "execution_count": 12,
     "metadata": {},
     "output_type": "execute_result"
    }
   ],
   "source": [
    "df_3.head(5)"
   ]
  },
  {
   "cell_type": "code",
   "execution_count": 29,
   "id": "f50bc6ca-d892-4df6-96bc-def9b4daa201",
   "metadata": {},
   "outputs": [
    {
     "data": {
      "image/png": "[encoded data removed]",
      "text/plain": [
       "<Figure size 640x480 with 1 Axes>"
      ]
     },
     "metadata": {},
     "output_type": "display_data"
    }
   ],
   "source": [
    "x = df_3['0']\n",
    "y = df_3['1']\n",
    "\n",
    "plt.scatter(x, y, color='magenta')\n",
    "plt.xlabel('UMAP_1')\n",
    "plt.ylabel('UMAP_2')\n",
    "plt.xlim(-20, 35)\n",
    "plt.ylim(-20, 25)\n",
    "plt.title('Chemical Space Occupied by Wang and Chen 2020')\n",
    "plt.show()"
   ]
  }
 ],
 "metadata": {
  "kernelspec": {
   "display_name": "Python 3 (ipykernel)",
   "language": "python",
   "name": "python3"
  },
  "language_info": {
   "codemirror_mode": {
    "name": "ipython",
    "version": 3
   },
   "file_extension": ".py",
   "mimetype": "text/x-python",
   "name": "python",
   "nbconvert_exporter": "python",
   "pygments_lexer": "ipython3",
   "version": "3.11.11"
  }
 },
 "nbformat": 4,
 "nbformat_minor": 5
}
