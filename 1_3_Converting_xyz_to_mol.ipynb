{
 "cells": [
  {
   "cell_type": "code",
   "execution_count": 1,
   "id": "bb5c13f2-1c05-4e20-ace2-e6a7f0808518",
   "metadata": {},
   "outputs": [],
   "source": [
    "from rdkit import Chem\n",
    "import pandas as pd\n",
    "import os\n",
    "from rdkit.Geometry import Point3D"
   ]
  },
  {
   "cell_type": "code",
   "execution_count": 2,
   "id": "e8a8dcf4-7c7b-41cc-90e4-c5efdcfdb3fd",
   "metadata": {},
   "outputs": [],
   "source": [
    "data = pd.read_csv('./Caco-2 Permeability Dataset/Filtered Data/3D_optimizable_dataset.csv')\n",
    "\n",
    "for idx in range(len(data)):\n",
    "    atoms = []\n",
    "    xyz_optimized_coords = []\n",
    "    xyz_file = f'./3D Conformers/xtb/xyz/xtbopt_{idx}.xyz'\n",
    "\n",
    "    if os.path.exists(xyz_file):\n",
    "        with open(xyz_file, 'r') as f:\n",
    "            for line_number,line in enumerate(f):\n",
    "                if line_number == 0:\n",
    "                    num_atoms = int(line)\n",
    "                elif line_number == 1:\n",
    "                    comment = line\n",
    "                else:\n",
    "                    atomic_symbol, x, y, z = line.split()\n",
    "                    atoms.append(atomic_symbol)\n",
    "                    xyz_optimized_coords.append([float(x),float(y),float(z)])\n",
    "        \n",
    "        m = Chem.MolFromMolFile(f'./3D Conformers/rdkit/mol/mol_{idx}.mol', removeHs=False)\n",
    "        conf = m.GetConformer()\n",
    "        for i in range(m.GetNumAtoms()):\n",
    "           x,y,z = xyz_optimized_coords[i]\n",
    "           conf.SetAtomPosition(i,Point3D(x,y,z))\n",
    "\n",
    "        Chem.MolToMolFile(m, f'./3D Conformers/xtb/mol/xtbopt_{idx}.mol')"
   ]
  },
  {
   "cell_type": "code",
   "execution_count": null,
   "id": "346f7dbe-3e02-43e0-a00e-5165c1dd4e4c",
   "metadata": {},
   "outputs": [],
   "source": []
  }
 ],
 "metadata": {
  "kernelspec": {
   "display_name": "Python 3 (ipykernel)",
   "language": "python",
   "name": "python3"
  },
  "language_info": {
   "codemirror_mode": {
    "name": "ipython",
    "version": 3
   },
   "file_extension": ".py",
   "mimetype": "text/x-python",
   "name": "python",
   "nbconvert_exporter": "python",
   "pygments_lexer": "ipython3",
   "version": "3.11.11"
  }
 },
 "nbformat": 4,
 "nbformat_minor": 5
}
